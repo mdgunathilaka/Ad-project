{
  "nbformat": 4,
  "nbformat_minor": 0,
  "metadata": {
    "colab": {
      "name": "Digital_ad_train.ipynb",
      "provenance": [],
      "collapsed_sections": []
    },
    "kernelspec": {
      "name": "python3",
      "display_name": "Python 3"
    }
  },
  "cells": [
    {
      "cell_type": "code",
      "metadata": {
        "id": "nb2TABW8fwW-",
        "colab_type": "code",
        "colab": {
          "base_uri": "https://localhost:8080/",
          "height": 1000
        },
        "outputId": "ce343019-c0a6-400a-de70-035972500daa"
      },
      "source": [
        "import pandas as pd\n",
        "import tensorflow as tf\n",
        "import numpy as np\n",
        "!pip install tensorflowjs"
      ],
      "execution_count": 2,
      "outputs": [
        {
          "output_type": "stream",
          "text": [
            "Collecting tensorflowjs\n",
            "\u001b[?25l  Downloading https://files.pythonhosted.org/packages/ef/4c/79739ad8652e4f0372ddfa272d4fa3bfb0497460bc319e3758e907586540/tensorflowjs-2.3.0-py3-none-any.whl (61kB)\n",
            "\r\u001b[K     |█████▎                          | 10kB 19.2MB/s eta 0:00:01\r\u001b[K     |██████████▋                     | 20kB 1.5MB/s eta 0:00:01\r\u001b[K     |████████████████                | 30kB 2.2MB/s eta 0:00:01\r\u001b[K     |█████████████████████▎          | 40kB 2.5MB/s eta 0:00:01\r\u001b[K     |██████████████████████████▋     | 51kB 1.9MB/s eta 0:00:01\r\u001b[K     |████████████████████████████████| 61kB 2.2MB/s eta 0:00:01\r\u001b[K     |████████████████████████████████| 71kB 1.8MB/s \n",
            "\u001b[?25hRequirement already satisfied: six>=1.12.0 in /usr/local/lib/python3.6/dist-packages (from tensorflowjs) (1.15.0)\n",
            "Collecting tensorflow-cpu<3,>=2.1.0\n",
            "\u001b[?25l  Downloading https://files.pythonhosted.org/packages/cc/f6/b2996d65fb72200b1455a776d38915760b097ad1fa8c1c177a8cccbff07a/tensorflow_cpu-2.3.0-cp36-cp36m-manylinux2010_x86_64.whl (137.3MB)\n",
            "\u001b[K     |████████████████████████████████| 137.3MB 65kB/s \n",
            "\u001b[?25hCollecting tensorflow-hub==0.7.0\n",
            "\u001b[?25l  Downloading https://files.pythonhosted.org/packages/00/0e/a91780d07592b1abf9c91344ce459472cc19db3b67fdf3a61dca6ebb2f5c/tensorflow_hub-0.7.0-py2.py3-none-any.whl (89kB)\n",
            "\u001b[K     |████████████████████████████████| 92kB 10.3MB/s \n",
            "\u001b[?25hRequirement already satisfied: h5py>=2.8.0 in /usr/local/lib/python3.6/dist-packages (from tensorflowjs) (2.10.0)\n",
            "Collecting PyInquirer==1.0.3\n",
            "  Downloading https://files.pythonhosted.org/packages/fb/4c/434b7c454010a284b49d6f1d446fe8dc5960415613d8c0225b9e2efb6724/PyInquirer-1.0.3.tar.gz\n",
            "Requirement already satisfied: numpy<1.19.0,>=1.16.4 in /usr/local/lib/python3.6/dist-packages (from tensorflowjs) (1.18.5)\n",
            "Requirement already satisfied: opt-einsum>=2.3.2 in /usr/local/lib/python3.6/dist-packages (from tensorflow-cpu<3,>=2.1.0->tensorflowjs) (3.3.0)\n",
            "Requirement already satisfied: termcolor>=1.1.0 in /usr/local/lib/python3.6/dist-packages (from tensorflow-cpu<3,>=2.1.0->tensorflowjs) (1.1.0)\n",
            "Requirement already satisfied: absl-py>=0.7.0 in /usr/local/lib/python3.6/dist-packages (from tensorflow-cpu<3,>=2.1.0->tensorflowjs) (0.9.0)\n",
            "Requirement already satisfied: google-pasta>=0.1.8 in /usr/local/lib/python3.6/dist-packages (from tensorflow-cpu<3,>=2.1.0->tensorflowjs) (0.2.0)\n",
            "Requirement already satisfied: tensorflow-estimator<2.4.0,>=2.3.0 in /usr/local/lib/python3.6/dist-packages (from tensorflow-cpu<3,>=2.1.0->tensorflowjs) (2.3.0)\n",
            "Requirement already satisfied: wrapt>=1.11.1 in /usr/local/lib/python3.6/dist-packages (from tensorflow-cpu<3,>=2.1.0->tensorflowjs) (1.12.1)\n",
            "Requirement already satisfied: scipy==1.4.1 in /usr/local/lib/python3.6/dist-packages (from tensorflow-cpu<3,>=2.1.0->tensorflowjs) (1.4.1)\n",
            "Requirement already satisfied: astunparse==1.6.3 in /usr/local/lib/python3.6/dist-packages (from tensorflow-cpu<3,>=2.1.0->tensorflowjs) (1.6.3)\n",
            "Requirement already satisfied: keras-preprocessing<1.2,>=1.1.1 in /usr/local/lib/python3.6/dist-packages (from tensorflow-cpu<3,>=2.1.0->tensorflowjs) (1.1.2)\n",
            "Requirement already satisfied: protobuf>=3.9.2 in /usr/local/lib/python3.6/dist-packages (from tensorflow-cpu<3,>=2.1.0->tensorflowjs) (3.12.4)\n",
            "Requirement already satisfied: tensorboard<3,>=2.3.0 in /usr/local/lib/python3.6/dist-packages (from tensorflow-cpu<3,>=2.1.0->tensorflowjs) (2.3.0)\n",
            "Requirement already satisfied: wheel>=0.26 in /usr/local/lib/python3.6/dist-packages (from tensorflow-cpu<3,>=2.1.0->tensorflowjs) (0.34.2)\n",
            "Requirement already satisfied: grpcio>=1.8.6 in /usr/local/lib/python3.6/dist-packages (from tensorflow-cpu<3,>=2.1.0->tensorflowjs) (1.31.0)\n",
            "Requirement already satisfied: gast==0.3.3 in /usr/local/lib/python3.6/dist-packages (from tensorflow-cpu<3,>=2.1.0->tensorflowjs) (0.3.3)\n",
            "Collecting prompt_toolkit==1.0.14\n",
            "\u001b[?25l  Downloading https://files.pythonhosted.org/packages/ee/3d/b25d35a9f0d381dd1c02d8e04b37c353caaaff4bc32150328eeebe4931f5/prompt_toolkit-1.0.14-py3-none-any.whl (248kB)\n",
            "\u001b[K     |████████████████████████████████| 256kB 40.6MB/s \n",
            "\u001b[?25hCollecting Pygments>=2.2.0\n",
            "\u001b[?25l  Downloading https://files.pythonhosted.org/packages/2d/68/106af3ae51daf807e9cdcba6a90e518954eb8b70341cee52995540a53ead/Pygments-2.6.1-py3-none-any.whl (914kB)\n",
            "\u001b[K     |████████████████████████████████| 921kB 44.9MB/s \n",
            "\u001b[?25hRequirement already satisfied: regex>=2016.11.21 in /usr/local/lib/python3.6/dist-packages (from PyInquirer==1.0.3->tensorflowjs) (2019.12.20)\n",
            "Requirement already satisfied: setuptools in /usr/local/lib/python3.6/dist-packages (from protobuf>=3.9.2->tensorflow-cpu<3,>=2.1.0->tensorflowjs) (49.2.0)\n",
            "Requirement already satisfied: werkzeug>=0.11.15 in /usr/local/lib/python3.6/dist-packages (from tensorboard<3,>=2.3.0->tensorflow-cpu<3,>=2.1.0->tensorflowjs) (1.0.1)\n",
            "Requirement already satisfied: google-auth<2,>=1.6.3 in /usr/local/lib/python3.6/dist-packages (from tensorboard<3,>=2.3.0->tensorflow-cpu<3,>=2.1.0->tensorflowjs) (1.17.2)\n",
            "Requirement already satisfied: tensorboard-plugin-wit>=1.6.0 in /usr/local/lib/python3.6/dist-packages (from tensorboard<3,>=2.3.0->tensorflow-cpu<3,>=2.1.0->tensorflowjs) (1.7.0)\n",
            "Requirement already satisfied: google-auth-oauthlib<0.5,>=0.4.1 in /usr/local/lib/python3.6/dist-packages (from tensorboard<3,>=2.3.0->tensorflow-cpu<3,>=2.1.0->tensorflowjs) (0.4.1)\n",
            "Requirement already satisfied: markdown>=2.6.8 in /usr/local/lib/python3.6/dist-packages (from tensorboard<3,>=2.3.0->tensorflow-cpu<3,>=2.1.0->tensorflowjs) (3.2.2)\n",
            "Requirement already satisfied: requests<3,>=2.21.0 in /usr/local/lib/python3.6/dist-packages (from tensorboard<3,>=2.3.0->tensorflow-cpu<3,>=2.1.0->tensorflowjs) (2.23.0)\n",
            "Requirement already satisfied: wcwidth in /usr/local/lib/python3.6/dist-packages (from prompt_toolkit==1.0.14->PyInquirer==1.0.3->tensorflowjs) (0.2.5)\n",
            "Requirement already satisfied: pyasn1-modules>=0.2.1 in /usr/local/lib/python3.6/dist-packages (from google-auth<2,>=1.6.3->tensorboard<3,>=2.3.0->tensorflow-cpu<3,>=2.1.0->tensorflowjs) (0.2.8)\n",
            "Requirement already satisfied: cachetools<5.0,>=2.0.0 in /usr/local/lib/python3.6/dist-packages (from google-auth<2,>=1.6.3->tensorboard<3,>=2.3.0->tensorflow-cpu<3,>=2.1.0->tensorflowjs) (4.1.1)\n",
            "Requirement already satisfied: rsa<5,>=3.1.4; python_version >= \"3\" in /usr/local/lib/python3.6/dist-packages (from google-auth<2,>=1.6.3->tensorboard<3,>=2.3.0->tensorflow-cpu<3,>=2.1.0->tensorflowjs) (4.6)\n",
            "Requirement already satisfied: requests-oauthlib>=0.7.0 in /usr/local/lib/python3.6/dist-packages (from google-auth-oauthlib<0.5,>=0.4.1->tensorboard<3,>=2.3.0->tensorflow-cpu<3,>=2.1.0->tensorflowjs) (1.3.0)\n",
            "Requirement already satisfied: importlib-metadata; python_version < \"3.8\" in /usr/local/lib/python3.6/dist-packages (from markdown>=2.6.8->tensorboard<3,>=2.3.0->tensorflow-cpu<3,>=2.1.0->tensorflowjs) (1.7.0)\n",
            "Requirement already satisfied: urllib3!=1.25.0,!=1.25.1,<1.26,>=1.21.1 in /usr/local/lib/python3.6/dist-packages (from requests<3,>=2.21.0->tensorboard<3,>=2.3.0->tensorflow-cpu<3,>=2.1.0->tensorflowjs) (1.24.3)\n",
            "Requirement already satisfied: certifi>=2017.4.17 in /usr/local/lib/python3.6/dist-packages (from requests<3,>=2.21.0->tensorboard<3,>=2.3.0->tensorflow-cpu<3,>=2.1.0->tensorflowjs) (2020.6.20)\n",
            "Requirement already satisfied: chardet<4,>=3.0.2 in /usr/local/lib/python3.6/dist-packages (from requests<3,>=2.21.0->tensorboard<3,>=2.3.0->tensorflow-cpu<3,>=2.1.0->tensorflowjs) (3.0.4)\n",
            "Requirement already satisfied: idna<3,>=2.5 in /usr/local/lib/python3.6/dist-packages (from requests<3,>=2.21.0->tensorboard<3,>=2.3.0->tensorflow-cpu<3,>=2.1.0->tensorflowjs) (2.10)\n",
            "Requirement already satisfied: pyasn1<0.5.0,>=0.4.6 in /usr/local/lib/python3.6/dist-packages (from pyasn1-modules>=0.2.1->google-auth<2,>=1.6.3->tensorboard<3,>=2.3.0->tensorflow-cpu<3,>=2.1.0->tensorflowjs) (0.4.8)\n",
            "Requirement already satisfied: oauthlib>=3.0.0 in /usr/local/lib/python3.6/dist-packages (from requests-oauthlib>=0.7.0->google-auth-oauthlib<0.5,>=0.4.1->tensorboard<3,>=2.3.0->tensorflow-cpu<3,>=2.1.0->tensorflowjs) (3.1.0)\n",
            "Requirement already satisfied: zipp>=0.5 in /usr/local/lib/python3.6/dist-packages (from importlib-metadata; python_version < \"3.8\"->markdown>=2.6.8->tensorboard<3,>=2.3.0->tensorflow-cpu<3,>=2.1.0->tensorflowjs) (3.1.0)\n",
            "Building wheels for collected packages: PyInquirer\n",
            "  Building wheel for PyInquirer (setup.py) ... \u001b[?25l\u001b[?25hdone\n",
            "  Created wheel for PyInquirer: filename=PyInquirer-1.0.3-cp36-none-any.whl size=32851 sha256=3c1ec60140806f75a76f5aeb05b0d38a1b10c27aa063acee60a514ccc7911ad4\n",
            "  Stored in directory: /root/.cache/pip/wheels/52/6c/b1/3e4b0e8daf42a92883c7641c0ea8ffb62e0490ebed2faa55ad\n",
            "Successfully built PyInquirer\n",
            "\u001b[31mERROR: datascience 0.10.6 has requirement folium==0.2.1, but you'll have folium 0.8.3 which is incompatible.\u001b[0m\n",
            "Installing collected packages: tensorflow-cpu, tensorflow-hub, prompt-toolkit, Pygments, PyInquirer, tensorflowjs\n",
            "  Found existing installation: tensorflow-hub 0.8.0\n",
            "    Uninstalling tensorflow-hub-0.8.0:\n",
            "      Successfully uninstalled tensorflow-hub-0.8.0\n",
            "  Found existing installation: prompt-toolkit 1.0.18\n",
            "    Uninstalling prompt-toolkit-1.0.18:\n",
            "      Successfully uninstalled prompt-toolkit-1.0.18\n",
            "  Found existing installation: Pygments 2.1.3\n",
            "    Uninstalling Pygments-2.1.3:\n",
            "      Successfully uninstalled Pygments-2.1.3\n",
            "Successfully installed PyInquirer-1.0.3 Pygments-2.6.1 prompt-toolkit-1.0.14 tensorflow-cpu-2.3.0 tensorflow-hub-0.7.0 tensorflowjs-2.3.0\n"
          ],
          "name": "stdout"
        },
        {
          "output_type": "display_data",
          "data": {
            "application/vnd.colab-display-data+json": {
              "pip_warning": {
                "packages": [
                  "prompt_toolkit",
                  "pygments",
                  "tensorflow"
                ]
              }
            }
          },
          "metadata": {
            "tags": []
          }
        }
      ]
    },
    {
      "cell_type": "code",
      "metadata": {
        "id": "O3m0kT67qxew",
        "colab_type": "code",
        "colab": {
          "resources": {
            "http://localhost:8080/nbextensions/google.colab/files.js": {
              "data": "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",
              "ok": true,
              "headers": [
                [
                  "content-type",
                  "application/javascript"
                ]
              ],
              "status": 200,
              "status_text": ""
            }
          },
          "base_uri": "https://localhost:8080/",
          "height": 73
        },
        "outputId": "71d9eea3-2b38-4ae9-c41c-28ff010bf8e9"
      },
      "source": [
        "from google.colab import files\n",
        "uploaded=files.upload()"
      ],
      "execution_count": 4,
      "outputs": [
        {
          "output_type": "display_data",
          "data": {
            "text/html": [
              "\n",
              "     <input type=\"file\" id=\"files-3635519a-11f8-42b7-bfd0-5352aac6b5e9\" name=\"files[]\" multiple disabled\n",
              "        style=\"border:none\" />\n",
              "     <output id=\"result-3635519a-11f8-42b7-bfd0-5352aac6b5e9\">\n",
              "      Upload widget is only available when the cell has been executed in the\n",
              "      current browser session. Please rerun this cell to enable.\n",
              "      </output>\n",
              "      <script src=\"/nbextensions/google.colab/files.js\"></script> "
            ],
            "text/plain": [
              "<IPython.core.display.HTML object>"
            ]
          },
          "metadata": {
            "tags": []
          }
        },
        {
          "output_type": "stream",
          "text": [
            "Saving digital_ad_test.csv to digital_ad_test.csv\n"
          ],
          "name": "stdout"
        }
      ]
    },
    {
      "cell_type": "code",
      "metadata": {
        "id": "6LZQpGUds0kt",
        "colab_type": "code",
        "colab": {}
      },
      "source": [
        "ad_train = pd.read_csv('digital_ad_train.csv')\n",
        "ad_test = pd.read_csv('digital_ad_test.csv')"
      ],
      "execution_count": 5,
      "outputs": []
    },
    {
      "cell_type": "code",
      "metadata": {
        "id": "x079rCyfZa8R",
        "colab_type": "code",
        "colab": {}
      },
      "source": [
        "ad_train_mod = ad_train.select_dtypes(include=['int','float'])\n",
        "ad_test_mod = ad_test.select_dtypes(include=['int','float'])"
      ],
      "execution_count": 6,
      "outputs": []
    },
    {
      "cell_type": "code",
      "metadata": {
        "id": "fU0ZR097Zyjc",
        "colab_type": "code",
        "colab": {
          "base_uri": "https://localhost:8080/",
          "height": 195
        },
        "outputId": "4c5e80f3-5e1b-4f96-bb41-6ac189d64207"
      },
      "source": [
        "ad_test_mod.head()"
      ],
      "execution_count": 8,
      "outputs": [
        {
          "output_type": "execute_result",
          "data": {
            "text/html": [
              "<div>\n",
              "<style scoped>\n",
              "    .dataframe tbody tr th:only-of-type {\n",
              "        vertical-align: middle;\n",
              "    }\n",
              "\n",
              "    .dataframe tbody tr th {\n",
              "        vertical-align: top;\n",
              "    }\n",
              "\n",
              "    .dataframe thead th {\n",
              "        text-align: right;\n",
              "    }\n",
              "</style>\n",
              "<table border=\"1\" class=\"dataframe\">\n",
              "  <thead>\n",
              "    <tr style=\"text-align: right;\">\n",
              "      <th></th>\n",
              "      <th>Female count</th>\n",
              "      <th>Male count</th>\n",
              "      <th>18 - 38F</th>\n",
              "      <th>39 - 59F</th>\n",
              "      <th>60 - 80F</th>\n",
              "      <th>18 - 38M</th>\n",
              "      <th>39 - 59M</th>\n",
              "      <th>60 - 80M</th>\n",
              "      <th>Day time</th>\n",
              "      <th>Season_Num</th>\n",
              "      <th>Day</th>\n",
              "      <th>Advertisement</th>\n",
              "    </tr>\n",
              "  </thead>\n",
              "  <tbody>\n",
              "    <tr>\n",
              "      <th>0</th>\n",
              "      <td>123</td>\n",
              "      <td>89</td>\n",
              "      <td>64</td>\n",
              "      <td>35</td>\n",
              "      <td>24</td>\n",
              "      <td>39</td>\n",
              "      <td>18</td>\n",
              "      <td>32</td>\n",
              "      <td>0</td>\n",
              "      <td>0</td>\n",
              "      <td>0</td>\n",
              "      <td>0</td>\n",
              "    </tr>\n",
              "    <tr>\n",
              "      <th>1</th>\n",
              "      <td>76</td>\n",
              "      <td>134</td>\n",
              "      <td>33</td>\n",
              "      <td>21</td>\n",
              "      <td>22</td>\n",
              "      <td>54</td>\n",
              "      <td>41</td>\n",
              "      <td>39</td>\n",
              "      <td>0</td>\n",
              "      <td>3</td>\n",
              "      <td>1</td>\n",
              "      <td>1</td>\n",
              "    </tr>\n",
              "    <tr>\n",
              "      <th>2</th>\n",
              "      <td>132</td>\n",
              "      <td>100</td>\n",
              "      <td>58</td>\n",
              "      <td>62</td>\n",
              "      <td>12</td>\n",
              "      <td>44</td>\n",
              "      <td>31</td>\n",
              "      <td>25</td>\n",
              "      <td>1</td>\n",
              "      <td>3</td>\n",
              "      <td>1</td>\n",
              "      <td>2</td>\n",
              "    </tr>\n",
              "    <tr>\n",
              "      <th>3</th>\n",
              "      <td>110</td>\n",
              "      <td>60</td>\n",
              "      <td>51</td>\n",
              "      <td>40</td>\n",
              "      <td>19</td>\n",
              "      <td>29</td>\n",
              "      <td>18</td>\n",
              "      <td>13</td>\n",
              "      <td>1</td>\n",
              "      <td>0</td>\n",
              "      <td>1</td>\n",
              "      <td>0</td>\n",
              "    </tr>\n",
              "    <tr>\n",
              "      <th>4</th>\n",
              "      <td>120</td>\n",
              "      <td>200</td>\n",
              "      <td>63</td>\n",
              "      <td>40</td>\n",
              "      <td>17</td>\n",
              "      <td>82</td>\n",
              "      <td>32</td>\n",
              "      <td>86</td>\n",
              "      <td>0</td>\n",
              "      <td>2</td>\n",
              "      <td>0</td>\n",
              "      <td>1</td>\n",
              "    </tr>\n",
              "  </tbody>\n",
              "</table>\n",
              "</div>"
            ],
            "text/plain": [
              "   Female count  Male count  18 - 38F  ...  Season_Num  Day  Advertisement\n",
              "0           123          89        64  ...           0    0              0\n",
              "1            76         134        33  ...           3    1              1\n",
              "2           132         100        58  ...           3    1              2\n",
              "3           110          60        51  ...           0    1              0\n",
              "4           120         200        63  ...           2    0              1\n",
              "\n",
              "[5 rows x 12 columns]"
            ]
          },
          "metadata": {
            "tags": []
          },
          "execution_count": 8
        }
      ]
    },
    {
      "cell_type": "code",
      "metadata": {
        "id": "kCP6fQk6SdBO",
        "colab_type": "code",
        "colab": {}
      },
      "source": [
        "ad_train_f = ad_train_mod.astype('float32')\n",
        "ad_test_f = ad_test_mod.astype('float32')"
      ],
      "execution_count": 7,
      "outputs": []
    },
    {
      "cell_type": "code",
      "metadata": {
        "id": "0BOw9QMIFXGS",
        "colab_type": "code",
        "colab": {}
      },
      "source": [
        "training_data = ad_train_f.to_numpy()\n",
        "testing_data = ad_test_f.to_numpy()"
      ],
      "execution_count": 10,
      "outputs": []
    },
    {
      "cell_type": "code",
      "metadata": {
        "id": "6I8wNlOsL6DE",
        "colab_type": "code",
        "colab": {
          "base_uri": "https://localhost:8080/",
          "height": 34
        },
        "outputId": "72c73574-782e-4b4f-da91-8108a4000f2d"
      },
      "source": [
        "testing_data.shape"
      ],
      "execution_count": 11,
      "outputs": [
        {
          "output_type": "execute_result",
          "data": {
            "text/plain": [
              "(500, 12)"
            ]
          },
          "metadata": {
            "tags": []
          },
          "execution_count": 11
        }
      ]
    },
    {
      "cell_type": "code",
      "metadata": {
        "id": "n95sh5uZMwZb",
        "colab_type": "code",
        "colab": {}
      },
      "source": [
        "train_features = training_data[:,0:-1]\n",
        "training_labels = training_data[:,-1]\n",
        "test_features = testing_data[:,0:-1]\n",
        "testing_labels = testing_data[:,-1]"
      ],
      "execution_count": 12,
      "outputs": []
    },
    {
      "cell_type": "code",
      "metadata": {
        "id": "s9GZUot3k7ep",
        "colab_type": "code",
        "colab": {}
      },
      "source": [
        "train_labels = tf.one_hot(training_labels, 7, axis=1)\n",
        "test_labels = tf.one_hot(testing_labels,7, axis=1)"
      ],
      "execution_count": 13,
      "outputs": []
    },
    {
      "cell_type": "code",
      "metadata": {
        "id": "tPMVJU1MiveV",
        "colab_type": "code",
        "colab": {
          "base_uri": "https://localhost:8080/",
          "height": 34
        },
        "outputId": "fd82f422-ee02-40aa-dc91-50c62348e7a1"
      },
      "source": [
        "test_labels.shape"
      ],
      "execution_count": 14,
      "outputs": [
        {
          "output_type": "execute_result",
          "data": {
            "text/plain": [
              "TensorShape([500, 7])"
            ]
          },
          "metadata": {
            "tags": []
          },
          "execution_count": 14
        }
      ]
    },
    {
      "cell_type": "code",
      "metadata": {
        "id": "PtKxg6ujNTlw",
        "colab_type": "code",
        "colab": {
          "base_uri": "https://localhost:8080/",
          "height": 286
        },
        "outputId": "92b19532-8fea-4bcc-ea13-8a6e0c26d9f3"
      },
      "source": [
        "#model\n",
        "model=tf.keras.Sequential([\n",
        "  tf.keras.layers.Input(shape=(11,)),\n",
        "  tf.keras.layers.Dense(16,activation='relu'),\n",
        "  tf.keras.layers.Dropout(0.2),\n",
        "  tf.keras.layers.Dense(24,activation='relu'),\n",
        "  #tf.keras.layers.Dropout(0.2),\n",
        "  tf.keras.layers.Dense(7,activation='softmax')\n",
        "  ])\n",
        "model.summary()"
      ],
      "execution_count": 15,
      "outputs": [
        {
          "output_type": "stream",
          "text": [
            "Model: \"sequential\"\n",
            "_________________________________________________________________\n",
            "Layer (type)                 Output Shape              Param #   \n",
            "=================================================================\n",
            "dense (Dense)                (None, 16)                192       \n",
            "_________________________________________________________________\n",
            "dropout (Dropout)            (None, 16)                0         \n",
            "_________________________________________________________________\n",
            "dense_1 (Dense)              (None, 24)                408       \n",
            "_________________________________________________________________\n",
            "dense_2 (Dense)              (None, 7)                 175       \n",
            "=================================================================\n",
            "Total params: 775\n",
            "Trainable params: 775\n",
            "Non-trainable params: 0\n",
            "_________________________________________________________________\n"
          ],
          "name": "stdout"
        }
      ]
    },
    {
      "cell_type": "code",
      "metadata": {
        "id": "4L3blzm1QT5d",
        "colab_type": "code",
        "colab": {}
      },
      "source": [
        "model.compile(optimizer='Adam',\n",
        "              loss='categorical_crossentropy',\n",
        "              metrics=['accuracy'])"
      ],
      "execution_count": 16,
      "outputs": []
    },
    {
      "cell_type": "code",
      "metadata": {
        "id": "PBdenpecQtLu",
        "colab_type": "code",
        "colab": {
          "base_uri": "https://localhost:8080/",
          "height": 1000
        },
        "outputId": "eb6a6f2b-9256-495e-a3c2-c2b564c48701"
      },
      "source": [
        "history = model.fit(train_features,train_labels,epochs=100,validation_data=(test_features,test_labels))"
      ],
      "execution_count": 17,
      "outputs": [
        {
          "output_type": "stream",
          "text": [
            "Epoch 1/100\n",
            "141/141 [==============================] - 0s 2ms/step - loss: 5.3060 - accuracy: 0.5218 - val_loss: 0.9129 - val_accuracy: 0.8640\n",
            "Epoch 2/100\n",
            "141/141 [==============================] - 0s 1ms/step - loss: 1.3041 - accuracy: 0.7149 - val_loss: 0.4605 - val_accuracy: 0.9020\n",
            "Epoch 3/100\n",
            "141/141 [==============================] - 0s 1ms/step - loss: 0.7799 - accuracy: 0.7884 - val_loss: 0.3643 - val_accuracy: 0.8660\n",
            "Epoch 4/100\n",
            "141/141 [==============================] - 0s 1ms/step - loss: 0.5949 - accuracy: 0.8278 - val_loss: 0.3130 - val_accuracy: 0.8980\n",
            "Epoch 5/100\n",
            "141/141 [==============================] - 0s 1ms/step - loss: 0.5011 - accuracy: 0.8413 - val_loss: 0.3011 - val_accuracy: 0.9020\n",
            "Epoch 6/100\n",
            "141/141 [==============================] - 0s 1ms/step - loss: 0.4534 - accuracy: 0.8524 - val_loss: 0.2827 - val_accuracy: 0.9140\n",
            "Epoch 7/100\n",
            "141/141 [==============================] - 0s 1ms/step - loss: 0.4067 - accuracy: 0.8644 - val_loss: 0.3012 - val_accuracy: 0.9020\n",
            "Epoch 8/100\n",
            "141/141 [==============================] - 0s 1ms/step - loss: 0.3766 - accuracy: 0.8782 - val_loss: 0.2237 - val_accuracy: 0.9020\n",
            "Epoch 9/100\n",
            "141/141 [==============================] - 0s 1ms/step - loss: 0.3529 - accuracy: 0.8842 - val_loss: 0.2238 - val_accuracy: 0.9140\n",
            "Epoch 10/100\n",
            "141/141 [==============================] - 0s 1ms/step - loss: 0.3212 - accuracy: 0.8938 - val_loss: 0.2035 - val_accuracy: 0.9140\n",
            "Epoch 11/100\n",
            "141/141 [==============================] - 0s 1ms/step - loss: 0.3331 - accuracy: 0.8838 - val_loss: 0.2098 - val_accuracy: 0.9260\n",
            "Epoch 12/100\n",
            "141/141 [==============================] - 0s 1ms/step - loss: 0.2996 - accuracy: 0.8909 - val_loss: 0.1955 - val_accuracy: 0.9140\n",
            "Epoch 13/100\n",
            "141/141 [==============================] - 0s 1ms/step - loss: 0.2929 - accuracy: 0.8942 - val_loss: 0.2070 - val_accuracy: 0.9260\n",
            "Epoch 14/100\n",
            "141/141 [==============================] - 0s 1ms/step - loss: 0.2821 - accuracy: 0.9011 - val_loss: 0.1781 - val_accuracy: 0.9160\n",
            "Epoch 15/100\n",
            "141/141 [==============================] - 0s 1ms/step - loss: 0.2668 - accuracy: 0.9051 - val_loss: 0.1924 - val_accuracy: 0.9260\n",
            "Epoch 16/100\n",
            "141/141 [==============================] - 0s 1ms/step - loss: 0.2745 - accuracy: 0.8980 - val_loss: 0.1768 - val_accuracy: 0.9260\n",
            "Epoch 17/100\n",
            "141/141 [==============================] - 0s 1ms/step - loss: 0.2505 - accuracy: 0.9073 - val_loss: 0.1637 - val_accuracy: 0.9260\n",
            "Epoch 18/100\n",
            "141/141 [==============================] - 0s 1ms/step - loss: 0.2465 - accuracy: 0.9058 - val_loss: 0.1717 - val_accuracy: 0.9080\n",
            "Epoch 19/100\n",
            "141/141 [==============================] - 0s 1ms/step - loss: 0.2494 - accuracy: 0.9100 - val_loss: 0.1622 - val_accuracy: 0.9260\n",
            "Epoch 20/100\n",
            "141/141 [==============================] - 0s 1ms/step - loss: 0.2412 - accuracy: 0.9151 - val_loss: 0.1665 - val_accuracy: 0.9260\n",
            "Epoch 21/100\n",
            "141/141 [==============================] - 0s 1ms/step - loss: 0.2358 - accuracy: 0.9129 - val_loss: 0.1598 - val_accuracy: 0.9260\n",
            "Epoch 22/100\n",
            "141/141 [==============================] - 0s 1ms/step - loss: 0.2268 - accuracy: 0.9153 - val_loss: 0.1462 - val_accuracy: 0.9380\n",
            "Epoch 23/100\n",
            "141/141 [==============================] - 0s 1ms/step - loss: 0.2252 - accuracy: 0.9178 - val_loss: 0.1961 - val_accuracy: 0.9260\n",
            "Epoch 24/100\n",
            "141/141 [==============================] - 0s 1ms/step - loss: 0.2271 - accuracy: 0.9151 - val_loss: 0.1449 - val_accuracy: 0.9560\n",
            "Epoch 25/100\n",
            "141/141 [==============================] - 0s 1ms/step - loss: 0.2174 - accuracy: 0.9180 - val_loss: 0.1453 - val_accuracy: 0.9320\n",
            "Epoch 26/100\n",
            "141/141 [==============================] - 0s 1ms/step - loss: 0.2221 - accuracy: 0.9122 - val_loss: 0.1430 - val_accuracy: 0.9460\n",
            "Epoch 27/100\n",
            "141/141 [==============================] - 0s 1ms/step - loss: 0.2167 - accuracy: 0.9189 - val_loss: 0.1385 - val_accuracy: 0.9380\n",
            "Epoch 28/100\n",
            "141/141 [==============================] - 0s 1ms/step - loss: 0.2084 - accuracy: 0.9198 - val_loss: 0.1314 - val_accuracy: 0.9380\n",
            "Epoch 29/100\n",
            "141/141 [==============================] - 0s 1ms/step - loss: 0.2119 - accuracy: 0.9189 - val_loss: 0.1347 - val_accuracy: 0.9380\n",
            "Epoch 30/100\n",
            "141/141 [==============================] - 0s 1ms/step - loss: 0.1931 - accuracy: 0.9249 - val_loss: 0.1439 - val_accuracy: 0.9420\n",
            "Epoch 31/100\n",
            "141/141 [==============================] - 0s 1ms/step - loss: 0.1984 - accuracy: 0.9238 - val_loss: 0.1267 - val_accuracy: 0.9280\n",
            "Epoch 32/100\n",
            "141/141 [==============================] - 0s 1ms/step - loss: 0.2017 - accuracy: 0.9229 - val_loss: 0.1488 - val_accuracy: 0.9280\n",
            "Epoch 33/100\n",
            "141/141 [==============================] - 0s 1ms/step - loss: 0.1990 - accuracy: 0.9249 - val_loss: 0.1328 - val_accuracy: 0.9400\n",
            "Epoch 34/100\n",
            "141/141 [==============================] - 0s 1ms/step - loss: 0.1863 - accuracy: 0.9304 - val_loss: 0.1250 - val_accuracy: 0.9440\n",
            "Epoch 35/100\n",
            "141/141 [==============================] - 0s 1ms/step - loss: 0.1864 - accuracy: 0.9289 - val_loss: 0.1198 - val_accuracy: 0.9400\n",
            "Epoch 36/100\n",
            "141/141 [==============================] - 0s 1ms/step - loss: 0.1858 - accuracy: 0.9302 - val_loss: 0.1201 - val_accuracy: 0.9460\n",
            "Epoch 37/100\n",
            "141/141 [==============================] - 0s 1ms/step - loss: 0.1752 - accuracy: 0.9276 - val_loss: 0.1179 - val_accuracy: 0.9460\n",
            "Epoch 38/100\n",
            "141/141 [==============================] - 0s 1ms/step - loss: 0.1777 - accuracy: 0.9249 - val_loss: 0.1148 - val_accuracy: 0.9500\n",
            "Epoch 39/100\n",
            "141/141 [==============================] - 0s 1ms/step - loss: 0.1778 - accuracy: 0.9284 - val_loss: 0.1084 - val_accuracy: 0.9380\n",
            "Epoch 40/100\n",
            "141/141 [==============================] - 0s 1ms/step - loss: 0.1740 - accuracy: 0.9322 - val_loss: 0.1253 - val_accuracy: 0.9420\n",
            "Epoch 41/100\n",
            "141/141 [==============================] - 0s 1ms/step - loss: 0.1745 - accuracy: 0.9282 - val_loss: 0.1518 - val_accuracy: 0.9200\n",
            "Epoch 42/100\n",
            "141/141 [==============================] - 0s 1ms/step - loss: 0.1708 - accuracy: 0.9262 - val_loss: 0.1013 - val_accuracy: 0.9460\n",
            "Epoch 43/100\n",
            "141/141 [==============================] - 0s 1ms/step - loss: 0.1690 - accuracy: 0.9304 - val_loss: 0.1140 - val_accuracy: 0.9540\n",
            "Epoch 44/100\n",
            "141/141 [==============================] - 0s 1ms/step - loss: 0.1738 - accuracy: 0.9280 - val_loss: 0.1060 - val_accuracy: 0.9480\n",
            "Epoch 45/100\n",
            "141/141 [==============================] - 0s 1ms/step - loss: 0.1622 - accuracy: 0.9311 - val_loss: 0.1039 - val_accuracy: 0.9380\n",
            "Epoch 46/100\n",
            "141/141 [==============================] - 0s 1ms/step - loss: 0.1697 - accuracy: 0.9311 - val_loss: 0.1145 - val_accuracy: 0.9380\n",
            "Epoch 47/100\n",
            "141/141 [==============================] - 0s 1ms/step - loss: 0.1644 - accuracy: 0.9318 - val_loss: 0.1343 - val_accuracy: 0.9280\n",
            "Epoch 48/100\n",
            "141/141 [==============================] - 0s 1ms/step - loss: 0.1663 - accuracy: 0.9324 - val_loss: 0.1015 - val_accuracy: 0.9540\n",
            "Epoch 49/100\n",
            "141/141 [==============================] - 0s 1ms/step - loss: 0.1551 - accuracy: 0.9389 - val_loss: 0.1080 - val_accuracy: 0.9540\n",
            "Epoch 50/100\n",
            "141/141 [==============================] - 0s 1ms/step - loss: 0.1533 - accuracy: 0.9349 - val_loss: 0.1080 - val_accuracy: 0.9540\n",
            "Epoch 51/100\n",
            "141/141 [==============================] - 0s 1ms/step - loss: 0.1535 - accuracy: 0.9384 - val_loss: 0.1167 - val_accuracy: 0.9340\n",
            "Epoch 52/100\n",
            "141/141 [==============================] - 0s 1ms/step - loss: 0.1529 - accuracy: 0.9393 - val_loss: 0.1131 - val_accuracy: 0.9440\n",
            "Epoch 53/100\n",
            "141/141 [==============================] - 0s 1ms/step - loss: 0.1480 - accuracy: 0.9396 - val_loss: 0.1064 - val_accuracy: 0.9520\n",
            "Epoch 54/100\n",
            "141/141 [==============================] - 0s 1ms/step - loss: 0.1508 - accuracy: 0.9333 - val_loss: 0.0946 - val_accuracy: 0.9500\n",
            "Epoch 55/100\n",
            "141/141 [==============================] - 0s 1ms/step - loss: 0.1497 - accuracy: 0.9369 - val_loss: 0.0952 - val_accuracy: 0.9480\n",
            "Epoch 56/100\n",
            "141/141 [==============================] - 0s 1ms/step - loss: 0.1502 - accuracy: 0.9351 - val_loss: 0.1018 - val_accuracy: 0.9440\n",
            "Epoch 57/100\n",
            "141/141 [==============================] - 0s 1ms/step - loss: 0.1487 - accuracy: 0.9360 - val_loss: 0.0957 - val_accuracy: 0.9460\n",
            "Epoch 58/100\n",
            "141/141 [==============================] - 0s 1ms/step - loss: 0.1476 - accuracy: 0.9362 - val_loss: 0.1095 - val_accuracy: 0.9440\n",
            "Epoch 59/100\n",
            "141/141 [==============================] - 0s 1ms/step - loss: 0.1507 - accuracy: 0.9369 - val_loss: 0.0986 - val_accuracy: 0.9460\n",
            "Epoch 60/100\n",
            "141/141 [==============================] - 0s 1ms/step - loss: 0.1462 - accuracy: 0.9384 - val_loss: 0.1144 - val_accuracy: 0.9440\n",
            "Epoch 61/100\n",
            "141/141 [==============================] - 0s 1ms/step - loss: 0.1351 - accuracy: 0.9409 - val_loss: 0.0906 - val_accuracy: 0.9600\n",
            "Epoch 62/100\n",
            "141/141 [==============================] - 0s 1ms/step - loss: 0.1462 - accuracy: 0.9373 - val_loss: 0.1005 - val_accuracy: 0.9440\n",
            "Epoch 63/100\n",
            "141/141 [==============================] - 0s 1ms/step - loss: 0.1348 - accuracy: 0.9422 - val_loss: 0.1019 - val_accuracy: 0.9440\n",
            "Epoch 64/100\n",
            "141/141 [==============================] - 0s 1ms/step - loss: 0.1342 - accuracy: 0.9411 - val_loss: 0.1052 - val_accuracy: 0.9560\n",
            "Epoch 65/100\n",
            "141/141 [==============================] - 0s 1ms/step - loss: 0.1379 - accuracy: 0.9418 - val_loss: 0.0913 - val_accuracy: 0.9600\n",
            "Epoch 66/100\n",
            "141/141 [==============================] - 0s 1ms/step - loss: 0.1398 - accuracy: 0.9433 - val_loss: 0.0990 - val_accuracy: 0.9560\n",
            "Epoch 67/100\n",
            "141/141 [==============================] - 0s 1ms/step - loss: 0.1345 - accuracy: 0.9402 - val_loss: 0.1155 - val_accuracy: 0.9580\n",
            "Epoch 68/100\n",
            "141/141 [==============================] - 0s 1ms/step - loss: 0.1439 - accuracy: 0.9384 - val_loss: 0.0952 - val_accuracy: 0.9580\n",
            "Epoch 69/100\n",
            "141/141 [==============================] - 0s 1ms/step - loss: 0.1437 - accuracy: 0.9402 - val_loss: 0.0824 - val_accuracy: 0.9660\n",
            "Epoch 70/100\n",
            "141/141 [==============================] - 0s 1ms/step - loss: 0.1412 - accuracy: 0.9444 - val_loss: 0.0952 - val_accuracy: 0.9680\n",
            "Epoch 71/100\n",
            "141/141 [==============================] - 0s 1ms/step - loss: 0.1348 - accuracy: 0.9442 - val_loss: 0.1214 - val_accuracy: 0.9320\n",
            "Epoch 72/100\n",
            "141/141 [==============================] - 0s 1ms/step - loss: 0.1342 - accuracy: 0.9467 - val_loss: 0.0843 - val_accuracy: 0.9440\n",
            "Epoch 73/100\n",
            "141/141 [==============================] - 0s 1ms/step - loss: 0.1305 - accuracy: 0.9451 - val_loss: 0.0921 - val_accuracy: 0.9560\n",
            "Epoch 74/100\n",
            "141/141 [==============================] - 0s 1ms/step - loss: 0.1340 - accuracy: 0.9404 - val_loss: 0.0943 - val_accuracy: 0.9500\n",
            "Epoch 75/100\n",
            "141/141 [==============================] - 0s 1ms/step - loss: 0.1321 - accuracy: 0.9433 - val_loss: 0.0884 - val_accuracy: 0.9580\n",
            "Epoch 76/100\n",
            "141/141 [==============================] - 0s 1ms/step - loss: 0.1466 - accuracy: 0.9360 - val_loss: 0.0882 - val_accuracy: 0.9680\n",
            "Epoch 77/100\n",
            "141/141 [==============================] - 0s 1ms/step - loss: 0.1290 - accuracy: 0.9458 - val_loss: 0.1061 - val_accuracy: 0.9380\n",
            "Epoch 78/100\n",
            "141/141 [==============================] - 0s 1ms/step - loss: 0.1380 - accuracy: 0.9396 - val_loss: 0.1073 - val_accuracy: 0.9320\n",
            "Epoch 79/100\n",
            "141/141 [==============================] - 0s 1ms/step - loss: 0.1318 - accuracy: 0.9400 - val_loss: 0.0898 - val_accuracy: 0.9560\n",
            "Epoch 80/100\n",
            "141/141 [==============================] - 0s 1ms/step - loss: 0.1222 - accuracy: 0.9471 - val_loss: 0.0944 - val_accuracy: 0.9440\n",
            "Epoch 81/100\n",
            "141/141 [==============================] - 0s 1ms/step - loss: 0.1287 - accuracy: 0.9444 - val_loss: 0.0822 - val_accuracy: 0.9700\n",
            "Epoch 82/100\n",
            "141/141 [==============================] - 0s 1ms/step - loss: 0.1307 - accuracy: 0.9427 - val_loss: 0.0869 - val_accuracy: 0.9560\n",
            "Epoch 83/100\n",
            "141/141 [==============================] - 0s 1ms/step - loss: 0.1311 - accuracy: 0.9436 - val_loss: 0.1029 - val_accuracy: 0.9380\n",
            "Epoch 84/100\n",
            "141/141 [==============================] - 0s 1ms/step - loss: 0.1201 - accuracy: 0.9444 - val_loss: 0.0885 - val_accuracy: 0.9660\n",
            "Epoch 85/100\n",
            "141/141 [==============================] - 0s 1ms/step - loss: 0.1286 - accuracy: 0.9422 - val_loss: 0.0965 - val_accuracy: 0.9440\n",
            "Epoch 86/100\n",
            "141/141 [==============================] - 0s 1ms/step - loss: 0.1180 - accuracy: 0.9480 - val_loss: 0.0803 - val_accuracy: 0.9640\n",
            "Epoch 87/100\n",
            "141/141 [==============================] - 0s 1ms/step - loss: 0.1275 - accuracy: 0.9442 - val_loss: 0.0873 - val_accuracy: 0.9580\n",
            "Epoch 88/100\n",
            "141/141 [==============================] - 0s 1ms/step - loss: 0.1213 - accuracy: 0.9491 - val_loss: 0.0883 - val_accuracy: 0.9580\n",
            "Epoch 89/100\n",
            "141/141 [==============================] - 0s 1ms/step - loss: 0.1283 - accuracy: 0.9440 - val_loss: 0.0768 - val_accuracy: 0.9680\n",
            "Epoch 90/100\n",
            "141/141 [==============================] - 0s 1ms/step - loss: 0.1248 - accuracy: 0.9431 - val_loss: 0.0820 - val_accuracy: 0.9600\n",
            "Epoch 91/100\n",
            "141/141 [==============================] - 0s 1ms/step - loss: 0.1244 - accuracy: 0.9440 - val_loss: 0.0864 - val_accuracy: 0.9560\n",
            "Epoch 92/100\n",
            "141/141 [==============================] - 0s 1ms/step - loss: 0.1282 - accuracy: 0.9433 - val_loss: 0.0989 - val_accuracy: 0.9440\n",
            "Epoch 93/100\n",
            "141/141 [==============================] - 0s 1ms/step - loss: 0.1284 - accuracy: 0.9427 - val_loss: 0.0965 - val_accuracy: 0.9580\n",
            "Epoch 94/100\n",
            "141/141 [==============================] - 0s 1ms/step - loss: 0.1272 - accuracy: 0.9471 - val_loss: 0.0830 - val_accuracy: 0.9580\n",
            "Epoch 95/100\n",
            "141/141 [==============================] - 0s 1ms/step - loss: 0.1327 - accuracy: 0.9398 - val_loss: 0.0819 - val_accuracy: 0.9660\n",
            "Epoch 96/100\n",
            "141/141 [==============================] - 0s 1ms/step - loss: 0.1260 - accuracy: 0.9424 - val_loss: 0.0831 - val_accuracy: 0.9580\n",
            "Epoch 97/100\n",
            "141/141 [==============================] - 0s 1ms/step - loss: 0.1227 - accuracy: 0.9453 - val_loss: 0.0794 - val_accuracy: 0.9600\n",
            "Epoch 98/100\n",
            "141/141 [==============================] - 0s 1ms/step - loss: 0.1158 - accuracy: 0.9498 - val_loss: 0.0875 - val_accuracy: 0.9560\n",
            "Epoch 99/100\n",
            "141/141 [==============================] - 0s 1ms/step - loss: 0.1222 - accuracy: 0.9482 - val_loss: 0.1137 - val_accuracy: 0.9380\n",
            "Epoch 100/100\n",
            "141/141 [==============================] - 0s 1ms/step - loss: 0.1266 - accuracy: 0.9453 - val_loss: 0.0994 - val_accuracy: 0.9680\n"
          ],
          "name": "stdout"
        }
      ]
    },
    {
      "cell_type": "code",
      "metadata": {
        "id": "LO8l8yQRXy22",
        "colab_type": "code",
        "colab": {}
      },
      "source": [
        "train_loss = history.history['loss']\n",
        "val_loss = history.history['val_loss']\n",
        "train_acc = history.history['accuracy']\n",
        "val_acc = history.history['val_accuracy']\n",
        "xc=range(100)\n",
        "import matplotlib.pyplot as plt"
      ],
      "execution_count": 28,
      "outputs": []
    },
    {
      "cell_type": "code",
      "metadata": {
        "id": "AcgzHiKbYX3c",
        "colab_type": "code",
        "colab": {
          "base_uri": "https://localhost:8080/",
          "height": 406
        },
        "outputId": "67c90342-4205-495b-d8ca-756147926c9e"
      },
      "source": [
        "plt.figure(1, figsize=(7,5))\n",
        "plt.plot(xc,train_loss)\n",
        "plt.plot(xc,val_loss)\n",
        "plt.title('Model loss')\n",
        "plt.ylabel('loss')\n",
        "plt.xlabel('epoch')\n",
        "plt.legend(['train','validation'])\n",
        "plt.style.use(['classic'])"
      ],
      "execution_count": 32,
      "outputs": [
        {
          "output_type": "display_data",
          "data": {
            "image/png": "[encoded data removed]",
            "text/plain": [
              "<Figure size 560x400 with 1 Axes>"
            ]
          },
          "metadata": {
            "tags": []
          }
        }
      ]
    },
    {
      "cell_type": "code",
      "metadata": {
        "id": "roNW3shibFqt",
        "colab_type": "code",
        "colab": {
          "base_uri": "https://localhost:8080/",
          "height": 406
        },
        "outputId": "2ae493f3-7f9f-47d3-cd4b-5ee365c1d437"
      },
      "source": [
        "plt.figure(2, figsize=(7,5))\n",
        "plt.plot(xc,train_acc)\n",
        "plt.plot(xc,val_acc)\n",
        "plt.title('Model Accuracy')\n",
        "plt.ylabel('accuracy')\n",
        "plt.xlabel('epoch')\n",
        "plt.legend(['train','validation'],loc=3)\n",
        "plt.style.use(['classic'])"
      ],
      "execution_count": 34,
      "outputs": [
        {
          "output_type": "display_data",
          "data": {
            "image/png": "[encoded data removed]",
            "text/plain": [
              "<Figure size 560x400 with 1 Axes>"
            ]
          },
          "metadata": {
            "tags": []
          }
        }
      ]
    },
    {
      "cell_type": "code",
      "metadata": {
        "id": "-wUQoiVxgm1t",
        "colab_type": "code",
        "colab": {}
      },
      "source": [
        "model.save('trained_model.h5')"
      ],
      "execution_count": 35,
      "outputs": []
    },
    {
      "cell_type": "code",
      "metadata": {
        "id": "eIazdQjldMYD",
        "colab_type": "code",
        "colab": {}
      },
      "source": [
        "!tensorflowjs_converter --input_format keras \\\n",
        "  ./trained_model.h5 \\\n",
        "  ./tfjs_files"
      ],
      "execution_count": 38,
      "outputs": []
    }
  ]
}